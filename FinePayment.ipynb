{
  "cells": [
    {
      "cell_type": "markdown",
      "metadata": {
        "id": "uHQscVCD7rM0"
      },
      "source": [
        "## Predicting which businesses are unlikely to pay their fines"
      ]
    },
    {
      "cell_type": "code",
      "execution_count": null,
      "metadata": {
        "id": "2b8b8256-cca0-47a9-944e-bfef9775eb36"
      },
      "outputs": [],
      "source": [
        "import pandas as pd\n",
        "import numpy as np\n",
        "import random\n",
        "from sklearn.model_selection import train_test_split\n",
        "from sklearn.impute import SimpleImputer\n",
        "from sklearn.preprocessing import OneHotEncoder\n",
        "from sklearn.ensemble import RandomForestClassifier, GradientBoostingClassifier\n",
        "from sklearn.metrics import accuracy_score\n",
        "import xgboost as xgb\n",
        "from sklearn.model_selection import GridSearchCV"
      ]
    },
    {
      "cell_type": "code",
      "execution_count": null,
      "metadata": {
        "colab": {
          "base_uri": "https://localhost:8080/",
          "height": 73
        },
        "id": "wC36QiLoAyet",
        "outputId": "1e5bae97-4716-44e2-9805-abfd797ff242"
      },
      "outputs": [
        {
          "data": {
            "text/html": [
              "\n",
              "     <input type=\"file\" id=\"files-3b440bd2-fa93-4dab-92f1-7a6ab17866da\" name=\"files[]\" multiple disabled\n",
              "        style=\"border:none\" />\n",
              "     <output id=\"result-3b440bd2-fa93-4dab-92f1-7a6ab17866da\">\n",
              "      Upload widget is only available when the cell has been executed in the\n",
              "      current browser session. Please rerun this cell to enable.\n",
              "      </output>\n",
              "      <script>// Copyright 2017 Google LLC\n",
              "//\n",
              "// Licensed under the Apache License, Version 2.0 (the \"License\");\n",
              "// you may not use this file except in compliance with the License.\n",
              "// You may obtain a copy of the License at\n",
              "//\n",
              "//      http://www.apache.org/licenses/LICENSE-2.0\n",
              "//\n",
              "// Unless required by applicable law or agreed to in writing, software\n",
              "// distributed under the License is distributed on an \"AS IS\" BASIS,\n",
              "// WITHOUT WARRANTIES OR CONDITIONS OF ANY KIND, either express or implied.\n",
              "// See the License for the specific language governing permissions and\n",
              "// limitations under the License.\n",
              "\n",
              "/**\n",
              " * @fileoverview Helpers for google.colab Python module.\n",
              " */\n",
              "(function(scope) {\n",
              "function span(text, styleAttributes = {}) {\n",
              "  const element = document.createElement('span');\n",
              "  element.textContent = text;\n",
              "  for (const key of Object.keys(styleAttributes)) {\n",
              "    element.style[key] = styleAttributes[key];\n",
              "  }\n",
              "  return element;\n",
              "}\n",
              "\n",
              "// Max number of bytes which will be uploaded at a time.\n",
              "const MAX_PAYLOAD_SIZE = 100 * 1024;\n",
              "\n",
              "function _uploadFiles(inputId, outputId) {\n",
              "  const steps = uploadFilesStep(inputId, outputId);\n",
              "  const outputElement = document.getElementById(outputId);\n",
              "  // Cache steps on the outputElement to make it available for the next call\n",
              "  // to uploadFilesContinue from Python.\n",
              "  outputElement.steps = steps;\n",
              "\n",
              "  return _uploadFilesContinue(outputId);\n",
              "}\n",
              "\n",
              "// This is roughly an async generator (not supported in the browser yet),\n",
              "// where there are multiple asynchronous steps and the Python side is going\n",
              "// to poll for completion of each step.\n",
              "// This uses a Promise to block the python side on completion of each step,\n",
              "// then passes the result of the previous step as the input to the next step.\n",
              "function _uploadFilesContinue(outputId) {\n",
              "  const outputElement = document.getElementById(outputId);\n",
              "  const steps = outputElement.steps;\n",
              "\n",
              "  const next = steps.next(outputElement.lastPromiseValue);\n",
              "  return Promise.resolve(next.value.promise).then((value) => {\n",
              "    // Cache the last promise value to make it available to the next\n",
              "    // step of the generator.\n",
              "    outputElement.lastPromiseValue = value;\n",
              "    return next.value.response;\n",
              "  });\n",
              "}\n",
              "\n",
              "/**\n",
              " * Generator function which is called between each async step of the upload\n",
              " * process.\n",
              " * @param {string} inputId Element ID of the input file picker element.\n",
              " * @param {string} outputId Element ID of the output display.\n",
              " * @return {!Iterable<!Object>} Iterable of next steps.\n",
              " */\n",
              "function* uploadFilesStep(inputId, outputId) {\n",
              "  const inputElement = document.getElementById(inputId);\n",
              "  inputElement.disabled = false;\n",
              "\n",
              "  const outputElement = document.getElementById(outputId);\n",
              "  outputElement.innerHTML = '';\n",
              "\n",
              "  const pickedPromise = new Promise((resolve) => {\n",
              "    inputElement.addEventListener('change', (e) => {\n",
              "      resolve(e.target.files);\n",
              "    });\n",
              "  });\n",
              "\n",
              "  const cancel = document.createElement('button');\n",
              "  inputElement.parentElement.appendChild(cancel);\n",
              "  cancel.textContent = 'Cancel upload';\n",
              "  const cancelPromise = new Promise((resolve) => {\n",
              "    cancel.onclick = () => {\n",
              "      resolve(null);\n",
              "    };\n",
              "  });\n",
              "\n",
              "  // Wait for the user to pick the files.\n",
              "  const files = yield {\n",
              "    promise: Promise.race([pickedPromise, cancelPromise]),\n",
              "    response: {\n",
              "      action: 'starting',\n",
              "    }\n",
              "  };\n",
              "\n",
              "  cancel.remove();\n",
              "\n",
              "  // Disable the input element since further picks are not allowed.\n",
              "  inputElement.disabled = true;\n",
              "\n",
              "  if (!files) {\n",
              "    return {\n",
              "      response: {\n",
              "        action: 'complete',\n",
              "      }\n",
              "    };\n",
              "  }\n",
              "\n",
              "  for (const file of files) {\n",
              "    const li = document.createElement('li');\n",
              "    li.append(span(file.name, {fontWeight: 'bold'}));\n",
              "    li.append(span(\n",
              "        `(${file.type || 'n/a'}) - ${file.size} bytes, ` +\n",
              "        `last modified: ${\n",
              "            file.lastModifiedDate ? file.lastModifiedDate.toLocaleDateString() :\n",
              "                                    'n/a'} - `));\n",
              "    const percent = span('0% done');\n",
              "    li.appendChild(percent);\n",
              "\n",
              "    outputElement.appendChild(li);\n",
              "\n",
              "    const fileDataPromise = new Promise((resolve) => {\n",
              "      const reader = new FileReader();\n",
              "      reader.onload = (e) => {\n",
              "        resolve(e.target.result);\n",
              "      };\n",
              "      reader.readAsArrayBuffer(file);\n",
              "    });\n",
              "    // Wait for the data to be ready.\n",
              "    let fileData = yield {\n",
              "      promise: fileDataPromise,\n",
              "      response: {\n",
              "        action: 'continue',\n",
              "      }\n",
              "    };\n",
              "\n",
              "    // Use a chunked sending to avoid message size limits. See b/62115660.\n",
              "    let position = 0;\n",
              "    do {\n",
              "      const length = Math.min(fileData.byteLength - position, MAX_PAYLOAD_SIZE);\n",
              "      const chunk = new Uint8Array(fileData, position, length);\n",
              "      position += length;\n",
              "\n",
              "      const base64 = btoa(String.fromCharCode.apply(null, chunk));\n",
              "      yield {\n",
              "        response: {\n",
              "          action: 'append',\n",
              "          file: file.name,\n",
              "          data: base64,\n",
              "        },\n",
              "      };\n",
              "\n",
              "      let percentDone = fileData.byteLength === 0 ?\n",
              "          100 :\n",
              "          Math.round((position / fileData.byteLength) * 100);\n",
              "      percent.textContent = `${percentDone}% done`;\n",
              "\n",
              "    } while (position < fileData.byteLength);\n",
              "  }\n",
              "\n",
              "  // All done.\n",
              "  yield {\n",
              "    response: {\n",
              "      action: 'complete',\n",
              "    }\n",
              "  };\n",
              "}\n",
              "\n",
              "scope.google = scope.google || {};\n",
              "scope.google.colab = scope.google.colab || {};\n",
              "scope.google.colab._files = {\n",
              "  _uploadFiles,\n",
              "  _uploadFilesContinue,\n",
              "};\n",
              "})(self);\n",
              "</script> "
            ],
            "text/plain": [
              "<IPython.core.display.HTML object>"
            ]
          },
          "metadata": {},
          "output_type": "display_data"
        },
        {
          "name": "stdout",
          "output_type": "stream",
          "text": [
            "Saving ML_P09_4fined_legal_entities.csv to ML_P09_4fined_legal_entities (3).csv\n"
          ]
        }
      ],
      "source": [
        "from google.colab import files\n",
        "files.upload();"
      ]
    },
    {
      "cell_type": "code",
      "execution_count": null,
      "metadata": {
        "id": "zOt1o6WgK7fH"
      },
      "outputs": [],
      "source": [
        "data = pd.read_csv('ML_P09_4fined_legal_entities.csv', encoding='iso-8859-1')"
      ]
    },
    {
      "cell_type": "code",
      "execution_count": null,
      "metadata": {
        "colab": {
          "base_uri": "https://localhost:8080/"
        },
        "id": "D16fcmu2Ar5y",
        "outputId": "f7695c42-cc2e-4e5d-e000-7380c41be0d6"
      },
      "outputs": [
        {
          "data": {
            "text/plain": [
              "(96, 20820)"
            ]
          },
          "execution_count": 4,
          "metadata": {},
          "output_type": "execute_result"
        }
      ],
      "source": [
        "len(data.columns), len(data)\n",
        "#data.dtypes\n",
        "#data.head()"
      ]
    },
    {
      "cell_type": "code",
      "execution_count": null,
      "metadata": {
        "colab": {
          "base_uri": "https://localhost:8080/"
        },
        "id": "9yj7extSHy60",
        "outputId": "7121db44-5b5d-44da-ea8e-6bac83b84fd1"
      },
      "outputs": [
        {
          "data": {
            "text/plain": [
              "(93, 1000)"
            ]
          },
          "execution_count": 5,
          "metadata": {},
          "output_type": "execute_result"
        }
      ],
      "source": [
        "data['fine_paid_p'].describe()\n",
        "data = data[data['fine_paid_p'].isin([0, 1])]\n",
        "data['fine_paid_p'].value_counts()\n",
        "\n",
        "data = data.sample(frac=1, random_state=42)\n",
        "data = data.iloc[:1000, :] # Currently take less data to avoid OOM\n",
        "\n",
        "#data_0 = data[data['fine_paid_p'] == 0].sample(n=500, random_state=42)\n",
        "#data_1 = data[data['fine_paid_p'] == 1].sample(n=500, random_state=42)\n",
        "#data = pd.concat([data_0, data_1])\n",
        "#data = data.sample(frac=1, random_state=42).reset_index(drop=True)\n",
        "\n",
        "data = data.drop('fine_0_count', axis=1)\n",
        "data = data.drop('fine_1_count', axis=1)\n",
        "data = data.drop('fine_count', axis=1)\n",
        "len(data.columns), len(data)"
      ]
    },
    {
      "cell_type": "code",
      "execution_count": null,
      "metadata": {
        "id": "qVvavG0xGDgz"
      },
      "outputs": [],
      "source": [
        "train, test = train_test_split(data, test_size=0.2, random_state=42)\n",
        "X_train = train.drop('fine_paid_p', axis=1)\n",
        "y_train = train['fine_paid_p']\n",
        "X_test = test.drop('fine_paid_p', axis=1)\n",
        "y_test = test['fine_paid_p']"
      ]
    },
    {
      "cell_type": "code",
      "execution_count": null,
      "metadata": {
        "colab": {
          "base_uri": "https://localhost:8080/"
        },
        "id": "-k5fk-BgJknY",
        "outputId": "c33a1c47-d695-43a9-fb39-d87773736a32"
      },
      "outputs": [
        {
          "name": "stderr",
          "output_type": "stream",
          "text": [
            "/usr/local/lib/python3.10/dist-packages/sklearn/impute/_base.py:598: UserWarning: Skipping features without any observed values: ['Y3...2022' 'GY...2023' 'Y3...2021' 'HM...2021' 'KI...2024' 'KI...2023'\n",
            " 'Y3...2020' 'HM...2017' 'I2...2023' 'G1...2024' 'Y3...2019' 'X2...2021'\n",
            " 'Y2...2022' 'I1...2021' 'HM...2020' 'Y2...2023' 'G1...2023' 'Y3...2018'\n",
            " 'HM...2013']. At least one non-missing value is needed for imputation with strategy='mean'.\n",
            "  warnings.warn(\n",
            "/usr/local/lib/python3.10/dist-packages/sklearn/impute/_base.py:598: UserWarning: Skipping features without any observed values: ['Y3...2022' 'GY...2023' 'Y3...2021' 'HM...2021' 'KI...2024' 'KI...2023'\n",
            " 'Y3...2020' 'HM...2017' 'I2...2023' 'G1...2024' 'Y3...2019' 'X2...2021'\n",
            " 'Y2...2022' 'I1...2021' 'HM...2020' 'Y2...2023' 'G1...2023' 'Y3...2018'\n",
            " 'HM...2013']. At least one non-missing value is needed for imputation with strategy='mean'.\n",
            "  warnings.warn(\n"
          ]
        }
      ],
      "source": [
        "numerical_cols = X_train.select_dtypes(include=['int64', 'float64']).columns\n",
        "categorical_cols = X_train.select_dtypes(include=['object']).columns\n",
        "\n",
        "numerical_imputer = SimpleImputer(strategy='mean')\n",
        "X_train_numerical = numerical_imputer.fit_transform(X_train[numerical_cols])\n",
        "X_test_numerical = numerical_imputer.transform(X_test[numerical_cols])\n",
        "\n",
        "categorical_imputer = SimpleImputer(strategy='most_frequent')\n",
        "X_train_categorical = categorical_imputer.fit_transform(X_train[categorical_cols])\n",
        "X_test_categorical = categorical_imputer.transform(X_test[categorical_cols])\n",
        "\n",
        "encoder = OneHotEncoder(sparse_output=False, handle_unknown='ignore')\n",
        "X_train_categorical_encoded = encoder.fit_transform(X_train_categorical)\n",
        "X_test_categorical_encoded = encoder.transform(X_test_categorical)\n",
        "\n",
        "X_train_processed = np.concatenate([X_train_numerical, X_train_categorical_encoded], axis=1)\n",
        "X_test_processed = np.concatenate([X_test_numerical, X_test_categorical_encoded], axis=1)\n",
        "\n",
        "rf_model = RandomForestClassifier(random_state=42)\n",
        "rf_model.fit(X_train_processed, y_train)\n",
        "rf_predictions = rf_model.predict(X_test_processed)\n",
        "\n",
        "gb_model = GradientBoostingClassifier(random_state=42)\n",
        "gb_model.fit(X_train_processed, y_train)\n",
        "gb_predictions = gb_model.predict(X_test_processed)"
      ]
    },
    {
      "cell_type": "code",
      "execution_count": null,
      "metadata": {
        "colab": {
          "background_save": true
        },
        "id": "Rkhtd8FrKKeW"
      },
      "outputs": [],
      "source": [
        "param_grid = {\n",
        "    'n_estimators': [100, 200, 300],\n",
        "    'max_depth': [3, 5, 7],\n",
        "    'learning_rate': [0.1, 0.01, 0.001],\n",
        "}\n",
        "\n",
        "xgb_model = xgb.XGBClassifier(objective='binary:logistic', random_state=42)\n",
        "\n",
        "grid_search = GridSearchCV(estimator=xgb_model, param_grid=param_grid, scoring='accuracy', cv=5)\n",
        "grid_search.fit(X_train_processed, y_train)\n",
        "\n",
        "best_xgb_model = grid_search.best_estimator_\n",
        "xgb_predictions = best_xgb_model.predict(X_test_processed)"
      ]
    },
    {
      "cell_type": "code",
      "execution_count": null,
      "metadata": {
        "colab": {
          "background_save": true
        },
        "id": "OGrgUCA-dGdj"
      },
      "outputs": [],
      "source": [
        "naive_predictions = np.zeros(X_test_processed.shape[0], dtype=int)"
      ]
    },
    {
      "cell_type": "code",
      "execution_count": null,
      "metadata": {
        "colab": {
          "background_save": true
        },
        "id": "zpnMx3Ce5k6g",
        "outputId": "86d6fbb2-3fc4-4e92-b072-3d69408b1522"
      },
      "outputs": [
        {
          "name": "stdout",
          "output_type": "stream",
          "text": [
            "Naive Predictor Accuracy: 0.765\n",
            "Random Forest Accuracy: 0.9\n",
            "Gradient Boosting Accuracy: 0.89\n",
            "XGBoost Accuracy: 0.895\n"
          ]
        }
      ],
      "source": [
        "naive_accuracy = accuracy_score(y_test, naive_predictions)\n",
        "rf_accuracy = accuracy_score(y_test, rf_predictions)\n",
        "gb_accuracy = accuracy_score(y_test, gb_predictions)\n",
        "xgb_accuracy = accuracy_score(y_test, xgb_predictions)\n",
        "print(f\"Naive Predictor Accuracy: {naive_accuracy}\")\n",
        "print(f\"Random Forest Accuracy: {rf_accuracy}\")\n",
        "print(f\"Gradient Boosting Accuracy: {gb_accuracy}\")\n",
        "print(f\"XGBoost Accuracy: {xgb_accuracy}\")"
      ]
    }
  ],
  "metadata": {
    "colab": {
      "provenance": []
    },
    "kernelspec": {
      "display_name": "Python 3",
      "name": "python3"
    }
  },
  "nbformat": 4,
  "nbformat_minor": 0
}